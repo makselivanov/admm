{
 "cells": [
  {
   "cell_type": "code",
   "execution_count": 1,
   "id": "ff33aa34-9a5f-40b1-897c-a9fdbbc7d986",
   "metadata": {},
   "outputs": [],
   "source": [
    "import numpy as np\n",
    "from dwave.samplers import SimulatedAnnealingSampler\n",
    "import clarabel"
   ]
  },
  {
   "cell_type": "markdown",
   "id": "b14706cb-4d38-4f64-8b93-7da57ff512a1",
   "metadata": {},
   "source": [
    "### Рюкзак\n",
    "А именно *Multidimensional Multiple-Choice Quadratic Knapsack Problem* (MdMCQKP)\n",
    "\n",
    "Пусть:\n",
    "- N: количество предметов, которые можно положить в рюкзак\n",
    "- M: размерность рюкзака, то есть количество различных ограничений в виде неравенств\n",
    "- K: количество различных классов, на которые разбиваются предметы\n",
    "- $x$: Бинарный вектор размера $N$, для индекса $i$ $x_i$ является индикатором, что был выбран предмет $i$ \n",
    "\n",
    "Тогда:\n",
    "- profits (P): симметричная двухмерная матрица $N\\times N$, где $P_{ij}$ это профит, если выбраны предметы $i$ и $j$ (для $i \\not = j$: $P_{i, j}$ равен половине профита). Тогда $x^TPx$ это суммарный профит.\n",
    "- groups (G): бинарная матрица размера $K \\times N$, которая задает классы, для строчки $i$ будет выбран  один и только один предмет, среди которых в в соотвествующем столбце будет стоять $1$. То есть ограничение будет $\\forall i \\in \\{1, \\ldots K\\}: \\sum\\limits_{j=1}^{N}G_{ij}x_j = 1$.\n",
    "    Также можно записать как $Gx = \\mathbb{1}_K$, где $\\mathbb{1}_K$ - вектор из 1 размера K.\n",
    "- capacity (c): вектор размера $M$, где $c_i$ равен вместимости рюкзака по измерению $i$.\n",
    "- weights (W): матрица размера $M \\times N$, где $W_{ij}$ равна весу(размеру) предмета $j$ для рюкзака $i$.\n",
    "То есть ограничение будет $\\forall i \\in \\{1, \\ldots M\\}: \\sum\\limits_{j=1}^{N}W_{ij}x_j \\le c_i$. Также можно записать это как $Wx \\le c$, где неравенство имеется в виду по поокординатное.\n"
   ]
  },
  {
   "cell_type": "code",
   "execution_count": 2,
   "id": "42d99142-6d4e-48fd-bb51-e079cbec17f3",
   "metadata": {},
   "outputs": [],
   "source": [
    "def validatorMdMCQ(profits: np.ndarray, \n",
    "                   groups: np.ndarray, \n",
    "                   weights: np.ndarray, \n",
    "                   capacity: np.ndarray, \n",
    "                   rtol=1e-05, atol=1e-08):\n",
    "    N = profits.shape[0]\n",
    "    M = capacity.shape[0]\n",
    "    K = groups.shape[0]\n",
    "    \n",
    "    if len(profits.shape) != 2:\n",
    "        raise ValueError(\"profits is not matrix (not 2d array)\")\n",
    "    if len(groups.shape) != 2:\n",
    "        raise ValueError(\"groups is not matrix (not 2d array)\")\n",
    "    if len(weights.shape) != 2:\n",
    "        raise ValueError(\"weights is not matrix (not 2d array)\")\n",
    "    if len(capacity.shape) != 1:\n",
    "        raise ValueError(\"capacity is not vector (not 1d array)\")\n",
    "\n",
    "    if profits.shape != (N, N):\n",
    "        raise ValueError(\"profits is not square matrix (not (N, N) matrix)\")\n",
    "    if groups.shape != (K, N):\n",
    "        raise ValueError(\"groups is not (K, N) matrix\")\n",
    "    if weights.shape != (M, N):\n",
    "        raise ValueError(\"weights is not (M, N) matrix\")\n",
    "    \n",
    "    isSymMatrix = lambda matrix: np.allclose(matrix, matrix.T, rtol=rtol, atol=atol) \n",
    "    if not isSymMatrix(profits):\n",
    "        raise ValueError(\"profits is not symmetric matrix\")\n",
    "    isBinaryMatrix = lambda matrix: np.array_equal(matrix, matrix.astype(bool))\n",
    "    if not isBinaryMatrix(groups):\n",
    "        raise ValueError(\"groups is not binary matrix\")\n",
    "    return N, M, K"
   ]
  },
  {
   "cell_type": "code",
   "execution_count": null,
   "id": "bc139c06-55e4-44ed-8ac4-2b62f30e288d",
   "metadata": {},
   "outputs": [],
   "source": [
    "def knapsackSolverMdMCQ(profits: np.ndarray, groups: np.ndarray, weights: np.ndarray, capacity: np.ndarray):\n",
    "    # validator raise ValueError if argument is not valid\n",
    "    N, M, K = validatorMdMCQ(profits, groups, weights, capacity)\n",
    "    # TODO \n",
    "    pass"
   ]
  }
 ],
 "metadata": {
  "kernelspec": {
   "display_name": "Python 3 (ipykernel)",
   "language": "python",
   "name": "python3"
  },
  "language_info": {
   "codemirror_mode": {
    "name": "ipython",
    "version": 3
   },
   "file_extension": ".py",
   "mimetype": "text/x-python",
   "name": "python",
   "nbconvert_exporter": "python",
   "pygments_lexer": "ipython3",
   "version": "3.10.12"
  }
 },
 "nbformat": 4,
 "nbformat_minor": 5
}
