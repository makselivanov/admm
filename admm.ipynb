{
 "cells": [
  {
   "cell_type": "code",
   "execution_count": 1,
   "id": "ff33aa34-9a5f-40b1-897c-a9fdbbc7d986",
   "metadata": {},
   "outputs": [],
   "source": [
    "import numpy as np\n",
    "from dwave.samplers import SimulatedAnnealingSampler\n",
    "import clarabel"
   ]
  },
  {
   "cell_type": "markdown",
   "id": "b14706cb-4d38-4f64-8b93-7da57ff512a1",
   "metadata": {},
   "source": [
    "### Рюкзак\n",
    "А именно *Multidimensional Multiple-Choice Quadratic Knapsack Problem* (MdMCQKP)\n",
    "\n",
    "Пусть:\n",
    "- N: количество предметов, которые можно положить в рюкзак\n",
    "- M: размерность рюкзака, то есть количество различных ограничений в виде неравенств\n",
    "- K: количество различных классов, на которые разбиваются предметы\n",
    "- $x$: Бинарный вектор размера $N$, для индекса $i$ $x_i$ является индикатором, что был выбран предмет $i$ \n",
    "\n",
    "Тогда:\n",
    "- profits (P): симметричная двухмерная матрица $N\\times N$, где $P_{ij}$ это профит, если выбраны предметы $i$ и $j$ (для $i \\not = j$: $P_{i, j}$ равен половине профита). Тогда $x^TPx$ это суммарный профит.\n",
    "- groups (G): бинарная матрица размера $K \\times N$, которая задает классы, для строчки $i$ будет выбран  один и только один предмет, среди которых в в соотвествующем столбце будет стоять $1$. То есть ограничение будет $\\forall i \\in \\{1, \\ldots K\\}: \\sum\\limits_{j=1}^{N}G_{ij}x_j = 1$.\n",
    "    Также можно записать как $Gx = \\mathbb{1}_K$, где $\\mathbb{1}_K$ - вектор из 1 размера K.\n",
    "- capacity (c): вектор размера $M$, где $c_i$ равен вместимости рюкзака по измерению $i$.\n",
    "- weights (W): матрица размера $M \\times N$, где $W_{ij}$ равна весу(размеру) предмета $j$ для измерения рюкзака $i$.\n",
    "То есть ограничение будет $\\forall i \\in \\{1, \\ldots M\\}: \\sum\\limits_{j=1}^{N}W_{ij}x_j \\le c_i$. Также можно записать это как $Wx \\le c$, где неравенство имеется в виду по поокординатное.\n"
   ]
  },
  {
   "cell_type": "code",
   "execution_count": 4,
   "id": "42d99142-6d4e-48fd-bb51-e079cbec17f3",
   "metadata": {},
   "outputs": [],
   "source": [
    "# Валидирует переданные данные, возвращает (N, M, K) из описания сверху\n",
    "def validatorMdMCQ(profits: np.ndarray, \n",
    "                   groups: np.ndarray, \n",
    "                   weights: np.ndarray, \n",
    "                   capacity: np.ndarray, \n",
    "                   rtol=1e-05, atol=1e-08):\n",
    "    N = profits.shape[0]\n",
    "    M = capacity.shape[0]\n",
    "    K = groups.shape[0]\n",
    "    \n",
    "    if len(profits.shape) != 2:\n",
    "        raise ValueError(\"profits is not matrix (not 2d array)\")\n",
    "    if len(groups.shape) != 2:\n",
    "        raise ValueError(\"groups is not matrix (not 2d array)\")\n",
    "    if len(weights.shape) != 2:\n",
    "        raise ValueError(\"weights is not matrix (not 2d array)\")\n",
    "    if len(capacity.shape) != 1:\n",
    "        raise ValueError(\"capacity is not vector (not 1d array)\")\n",
    "\n",
    "    if profits.shape != (N, N):\n",
    "        raise ValueError(\"profits is not square matrix (not (N, N) matrix)\")\n",
    "    if groups.shape != (K, N):\n",
    "        raise ValueError(\"groups is not (K, N) matrix\")\n",
    "    if weights.shape != (M, N):\n",
    "        raise ValueError(\"weights is not (M, N) matrix\")\n",
    "    \n",
    "    isSymMatrix = lambda matrix: np.allclose(matrix, matrix.T, rtol=rtol, atol=atol) \n",
    "    if not isSymMatrix(profits):\n",
    "        raise ValueError(\"profits is not symmetric matrix\")\n",
    "    isBinaryMatrix = lambda matrix: np.array_equal(matrix, matrix.astype(bool))\n",
    "    if not isBinaryMatrix(groups):\n",
    "        raise ValueError(\"groups is not binary matrix\")\n",
    "    return N, M, K"
   ]
  },
  {
   "cell_type": "markdown",
   "id": "0766df41-a856-4910-bbc1-1cf19fb4fd55",
   "metadata": {},
   "source": [
    "### Переводим в ADDM задачу\n",
    "\n",
    "Сначала введем еще одно обозначение.\n",
    "Пусть новая переменная $u \\in \\mathbb{R}_{\\ge 0}^M$ и мы заменим $Wx < c$ на равенство $Wx + u = c$. Но это тоже самое, что $Wx + u - c = 0$, а это эквивалентно $\\|Wx + u - c\\|_2^2 \\le 0$\n",
    "\n",
    "В IV секции в статье про ADMM у нас получились обозначения:\n",
    "- $q(x) = -x^TPx$ - является квадратичным\n",
    "- $\\mathcal{X}$ - это множество из всех бинарных векторов размерности N\n",
    "- $\\mathcal{U} = \\mathbb{R}_{\\ge 0}^M, u = u$ - множество будет выпуклым\n",
    "- $\\varphi(u) = 0$, оно у нас не используется\n",
    "- $G = G$, $b = \\mathbb{1}_K$ тут у нас обозначения совпали\n",
    "- $g(x) = 0$, оно у нас не используется\n",
    "- $\\ell(x, u)$ заменится на $\\|Wx + u - c\\|_2^2$ (x и u в качестве себя) - это функция должна быть совместно выпуклой, сейчас я это не буду доказывать\n",
    "\n",
    "Наша текущая задача \n",
    "\n",
    "\\begin{equation}\n",
    "\\min_{x\\in\\mathcal{X}, u \\in \\mathbb{R}_{\\ge 0}^M \\subset \\mathbb{R}^M} -x^TPx\n",
    "\\end{equation}\n",
    "\\begin{equation}\n",
    "\\text{subject to: }Gx=\\mathbb{1}_K, \\| Wx + u - c \\|_2^2 \\le 0\n",
    "\\end{equation}\n",
    "\n"
   ]
  },
  {
   "cell_type": "markdown",
   "id": "8507600e-1140-47a8-ba2c-e72a4de0ef3e",
   "metadata": {},
   "source": [
    "Сделаем следующий шаг согласно статье, когда мы вводим новую переменную $z$ и ослабляем равенство $Gx=\\mathbb{1}_K$. Пусть $\\varrho > 0$ - какое очень большое число\n",
    "\n",
    "\\begin{equation}\n",
    "\\min_{x\\in\\mathcal{X}, z \\in \\mathbb{R}^N, u \\in \\mathbb{R}_{\\ge 0}^M} -x^TPx + \\dfrac{\\varrho}{2}\\|Gx - \\mathbb{1}_K\\|_2^2\n",
    "\\end{equation}\n",
    "\\begin{equation}\n",
    "\\text{subject to: }\\| Wz + u - c \\|_2^2 \\le 0, x = z\n",
    "\\end{equation}\n"
   ]
  },
  {
   "cell_type": "markdown",
   "id": "3a1ef6e8-7ef6-4f0f-be56-7037b5c8d60c",
   "metadata": {},
   "source": [
    "Теперь мы назовем вектор $\\overline{x}$ размера N + M, где первые N чисел образуют вектор z, а последние M образуют вектор u, то есть мы вертикально их разместили, z над u \n",
    "\n",
    "Тогда:\n",
    "- $f_0(x) := -x^TPx + \\dfrac{\\varrho}{2}\\|Gx - \\mathbb{1}_K\\|^2_2$\n",
    "- $\\overline{X} := \n",
    "\\left\\{(z\\in\\mathbb{R}^N, u\\in\\mathbb{R}_{\\ge0}^M)\\Big| \\|Wz + u - c\\|_2^2 \\le 0\\right\\}$\n",
    "- $\\iota_X(x) := 0$ если $x\\in X$, иначе равна $+\\infty$, это функция индикатор, которая снизу полунепрерывная (на практике это будет просто очень большое число)\n",
    "- $f_1(\\overline{x}) := \\iota_{\\overline{X}}(\\overline{x})$\n",
    "\n",
    "Тогда задача станет:\n",
    "\n",
    "\\begin{equation}\n",
    "\\min_{x\\in\\mathcal{X}, \\overline{x}\\in\\mathbb{R}^{N+M}} f_0(x) + f_1(\\overline{x})\n",
    "\\end{equation}\n",
    "\\begin{equation}\n",
    "\\text{subject to: }A_0x + A_1\\overline{x} = 0\n",
    "\\end{equation}\n",
    "\n",
    "где:\n",
    "- $A_0 = E_N$ - единичная матрица размера $N\\times N$\n",
    "- $A_1 = [-E_N, 0_{M\\times M}]$, получится матрица размера $N \\times (N + M)$\n",
    "\n",
    "Это мы свели задачу к ADMM "
   ]
  },
  {
   "cell_type": "code",
   "execution_count": null,
   "id": "bc139c06-55e4-44ed-8ac4-2b62f30e288d",
   "metadata": {},
   "outputs": [],
   "source": [
    "def knapsackSolverMdMCQ(profits: np.ndarray, groups: np.ndarray, weights: np.ndarray, capacity: np.ndarray):\n",
    "    # validator raise ValueError if argument is not valid\n",
    "    N, M, K = validatorMdMCQ(profits, groups, weights, capacity)\n",
    "    # TODO \n",
    "    pass"
   ]
  }
 ],
 "metadata": {
  "kernelspec": {
   "display_name": "Python 3 (ipykernel)",
   "language": "python",
   "name": "python3"
  },
  "language_info": {
   "codemirror_mode": {
    "name": "ipython",
    "version": 3
   },
   "file_extension": ".py",
   "mimetype": "text/x-python",
   "name": "python",
   "nbconvert_exporter": "python",
   "pygments_lexer": "ipython3",
   "version": "3.10.12"
  }
 },
 "nbformat": 4,
 "nbformat_minor": 5
}
